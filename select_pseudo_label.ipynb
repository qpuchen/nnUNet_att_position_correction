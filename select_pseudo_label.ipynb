{
 "cells": [
  {
   "cell_type": "code",
   "execution_count": null,
   "metadata": {},
   "outputs": [],
   "source": [
    "import os\n",
    "import SimpleITK as sitk\n",
    "import numpy as np"
   ]
  },
  {
   "cell_type": "code",
   "execution_count": null,
   "metadata": {
    "scrolled": true
   },
   "outputs": [],
   "source": [
    "u_dict = {}\n",
    "for file_name in os.listdir('ite1'):\n",
    "    itk_image_ite1 = sitk.ReadImage('ite1/'+file_name)\n",
    "    data_npy_ite1 = sitk.GetArrayFromImage(itk_image_ite1)\n",
    "    itk_image_ite2 = sitk.ReadImage('ite2/'+file_name)\n",
    "    data_npy_ite2 = sitk.GetArrayFromImage(itk_image_ite2)\n",
    "    itk_image_ite3 = sitk.ReadImage('ite3/'+file_name)\n",
    "    data_npy_ite3 = sitk.GetArrayFromImage(itk_image_ite3)\n",
    "    uncertainty2 = np.sum(data_npy_ite1 != data_npy_ite2)/np.sum(data_npy_ite2>0)\n",
    "    uncertainty3 = np.sum(data_npy_ite2 != data_npy_ite3)/np.sum(data_npy_ite3>0)\n",
    "    u = (uncertainty2+uncertainty3)/2\n",
    "    print(file_name)\n",
    "    print(u)\n",
    "    u_dict[file_name] = u"
   ]
  },
  {
   "cell_type": "code",
   "execution_count": null,
   "metadata": {},
   "outputs": [],
   "source": [
    "u_order=sorted(u_dict.items(),key=lambda x:x[1],reverse=True)\n",
    "print(u_order)"
   ]
  }
 ],
 "metadata": {
  "kernelspec": {
   "display_name": "Python 3",
   "language": "python",
   "name": "python3"
  },
  "language_info": {
   "codemirror_mode": {
    "name": "ipython",
    "version": 3
   },
   "file_extension": ".py",
   "mimetype": "text/x-python",
   "name": "python",
   "nbconvert_exporter": "python",
   "pygments_lexer": "ipython3",
   "version": "3.8.3"
  }
 },
 "nbformat": 4,
 "nbformat_minor": 5
}
